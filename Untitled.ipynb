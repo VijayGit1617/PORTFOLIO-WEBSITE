{
 "cells": [
  {
   "cell_type": "code",
   "execution_count": 1,
   "id": "e689c2dd-c337-4669-9918-c89c64d67b74",
   "metadata": {},
   "outputs": [
    {
     "name": "stdout",
     "output_type": "stream",
     "text": [
      "27c6a4e672152fba24b6caa7ddd55d18\n"
     ]
    }
   ],
   "source": [
    "import secrets\n",
    "print(secrets.token_hex(16))\n"
   ]
  },
  {
   "cell_type": "code",
   "execution_count": null,
   "id": "7c9bf7f2-05d0-4936-b335-fe5e033b9d2e",
   "metadata": {},
   "outputs": [],
   "source": []
  }
 ],
 "metadata": {
  "kernelspec": {
   "display_name": "Python 3 (ipykernel)",
   "language": "python",
   "name": "python3"
  },
  "language_info": {
   "codemirror_mode": {
    "name": "ipython",
    "version": 3
   },
   "file_extension": ".py",
   "mimetype": "text/x-python",
   "name": "python",
   "nbconvert_exporter": "python",
   "pygments_lexer": "ipython3",
   "version": "3.12.4"
  }
 },
 "nbformat": 4,
 "nbformat_minor": 5
}
